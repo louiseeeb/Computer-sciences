{
  "nbformat": 4,
  "nbformat_minor": 0,
  "metadata": {
    "colab": {
      "provenance": []
    },
    "kernelspec": {
      "name": "python3",
      "display_name": "Python 3"
    },
    "language_info": {
      "name": "python"
    }
  },
  "cells": [
    {
      "cell_type": "code",
      "execution_count": null,
      "metadata": {
        "id": "cVY1g2ax0cML"
      },
      "outputs": [],
      "source": [
        "print(10)\n",
        "print(\"London\")\n",
        "print(\"Number is\",5.5)\n"
      ]
    },
    {
      "cell_type": "code",
      "source": [
        "print(3*12+5/2)"
      ],
      "metadata": {
        "colab": {
          "base_uri": "https://localhost:8080/"
        },
        "id": "P1NfDqfG0sD1",
        "outputId": "fbc86dec-6e7a-4cd1-b8e9-9e945b8a535b"
      },
      "execution_count": null,
      "outputs": [
        {
          "output_type": "stream",
          "name": "stdout",
          "text": [
            "38.5\n"
          ]
        }
      ]
    },
    {
      "cell_type": "code",
      "source": [
        "input(\"Enter a name\")\n",
        "input(\"Enter a city\")"
      ],
      "metadata": {
        "colab": {
          "base_uri": "https://localhost:8080/",
          "height": 71
        },
        "id": "_bbIWWrz3E6m",
        "outputId": "8ee70f1b-fbe6-4ded-b427-96aed67d5a14"
      },
      "execution_count": null,
      "outputs": [
        {
          "name": "stdout",
          "output_type": "stream",
          "text": [
            "Enter a nameLouise\n",
            "Enter a cityLondon\n"
          ]
        },
        {
          "output_type": "execute_result",
          "data": {
            "text/plain": [
              "'London'"
            ],
            "application/vnd.google.colaboratory.intrinsic+json": {
              "type": "string"
            }
          },
          "metadata": {},
          "execution_count": 7
        }
      ]
    },
    {
      "cell_type": "code",
      "source": [
        "name = input (\"Enter your name\")\n",
        "city = input (\"Enter a city\")\n",
        "print (\"Hello\", name, \"from\", city)"
      ],
      "metadata": {
        "colab": {
          "base_uri": "https://localhost:8080/"
        },
        "id": "CirnCOwt2s3l",
        "outputId": "3194694c-c398-49a8-c6da-fc83b5d9de29"
      },
      "execution_count": null,
      "outputs": [
        {
          "output_type": "stream",
          "name": "stdout",
          "text": [
            "Enter your nameLouise\n",
            "Enter a cityLondon\n",
            "Hello Louise from London\n"
          ]
        }
      ]
    },
    {
      "cell_type": "markdown",
      "source": [
        "Exercise :\n",
        "Ask the user to enter their name, tel number, and city.\n",
        "Print in the following form : Stelios from Paris, tel is : 343434343"
      ],
      "metadata": {
        "id": "Nvwl-rRJ3f2k"
      }
    },
    {
      "cell_type": "code",
      "source": [
        "name = input (\"Enter your name\")\n",
        "tel = input (\"Enter your tel number\")\n",
        "city = input (\"Enter your city\")\n",
        "print (name, \"from\", city, \"tel is\", tel)"
      ],
      "metadata": {
        "colab": {
          "base_uri": "https://localhost:8080/"
        },
        "id": "tIRbUbnr30ZB",
        "outputId": "02f80edc-1672-4d4b-902f-37e543b88299"
      },
      "execution_count": null,
      "outputs": [
        {
          "output_type": "stream",
          "name": "stdout",
          "text": [
            "Enter your nameStelios\n",
            "Enter your tel number343434343\n",
            "Enter your cityPAri\n",
            "Stelios from PAri tel is 343434343\n"
          ]
        }
      ]
    },
    {
      "cell_type": "markdown",
      "source": [
        "\"Str\" means string => text\n",
        "\n",
        "print (\"Stelios\", \"1\") => Stelios 1\n",
        "print (\"Stelios\"+\"1\") => Stelios 1\n",
        "print (\"Stelios\"*3) => SteliosSteliosStelios\n",
        "\n",
        "Int means nombre\n",
        "FLoat means nb décimal / chiffre"
      ],
      "metadata": {
        "id": "mrfDjBM24q4M"
      }
    },
    {
      "cell_type": "code",
      "source": [
        "age = input (\"How old are you? \")\n",
        "print (age)\n",
        "print (age*3)"
      ],
      "metadata": {
        "colab": {
          "base_uri": "https://localhost:8080/"
        },
        "id": "EkHYlHko5Rt_",
        "outputId": "7d687c76-c1f8-45cf-b7c6-8a4e7b5db679"
      },
      "execution_count": null,
      "outputs": [
        {
          "output_type": "stream",
          "name": "stdout",
          "text": [
            "How old are you? 18\n",
            "18\n",
            "181818\n"
          ]
        }
      ]
    },
    {
      "cell_type": "code",
      "source": [
        "age = int(input(\"How old are you? \"))\n",
        "print(age*3)"
      ],
      "metadata": {
        "colab": {
          "base_uri": "https://localhost:8080/"
        },
        "id": "yhX72qQj53Du",
        "outputId": "d8bdefe3-4111-49e2-cecc-68c0069f426e"
      },
      "execution_count": null,
      "outputs": [
        {
          "output_type": "stream",
          "name": "stdout",
          "text": [
            "How old are you? 18\n",
            "54\n"
          ]
        }
      ]
    },
    {
      "cell_type": "markdown",
      "source": [
        "Ask the user to give you two numbers, one after the other.\n",
        "Print the addition of numbers\n",
        "5\n",
        "6\n",
        "11"
      ],
      "metadata": {
        "id": "L8X5tKfw6G0U"
      }
    },
    {
      "cell_type": "code",
      "source": [
        "x = float(input(\"Enter a number \"))\n",
        "y = float(input(\"Enter a number \"))\n",
        "print (x+y)"
      ],
      "metadata": {
        "colab": {
          "base_uri": "https://localhost:8080/"
        },
        "id": "dBn512CQ6Sy7",
        "outputId": "793ec403-878b-4efc-d500-729c0cd337fc"
      },
      "execution_count": null,
      "outputs": [
        {
          "output_type": "stream",
          "name": "stdout",
          "text": [
            "Enter a number 5\n",
            "Enter a number 6\n",
            "11.0\n"
          ]
        }
      ]
    },
    {
      "cell_type": "code",
      "source": [
        "x = int(input(\"Enter a number \"))\n",
        "y = int(input(\"Enter a number \"))\n",
        "if y==0 :\n",
        "  print (\"I cannot divide by zero\")\n",
        "else :\n",
        "  print (x/y)"
      ],
      "metadata": {
        "id": "U_5IPoWA76xu"
      },
      "execution_count": null,
      "outputs": []
    },
    {
      "cell_type": "markdown",
      "source": [
        "Exercise:\n",
        "Ask the user to enter two integer numbers.\n",
        "Print the largest number\n",
        "5\n",
        "12\n",
        "12"
      ],
      "metadata": {
        "id": "obH_hDsq9TOr"
      }
    },
    {
      "cell_type": "code",
      "source": [
        "x = input(\"Enter an integer number\")\n",
        "y = input(\"Enter an integer numbe\")\n",
        "if x>y :\n",
        "  print (\"Max is\",x)\n",
        "else :\n",
        "  print (\"Max is\",y)\n",
        "print(\"Max is\")"
      ],
      "metadata": {
        "id": "C_scmG8C9aBf"
      },
      "execution_count": null,
      "outputs": []
    },
    {
      "cell_type": "code",
      "source": [
        "x = input(\"Enter an integer number\")\n",
        "if x>0 :\n",
        "  print (\"Positive\")\n",
        "elif x=0 :\n",
        "  print (\"Zero\")\n",
        "else :\n",
        "  print (\"Negative\")"
      ],
      "metadata": {
        "id": "wKKRKFG4GX6G"
      },
      "execution_count": null,
      "outputs": []
    },
    {
      "cell_type": "markdown",
      "source": [
        "\"Elif\" means \"else if\", it's a condition, si il y a plusieurs condtions on peut mettre plusieurs fois elif."
      ],
      "metadata": {
        "id": "wuOtNrdxGxV6"
      }
    },
    {
      "cell_type": "code",
      "source": [
        "x = input(\"Enter an integer number\")\n",
        "if x>0 and x<10 :\n",
        "  print (\"number between 0 and 10\")\n",
        "else :\n",
        "  print (\"Other\")"
      ],
      "metadata": {
        "id": "bDtbWUiXHLBX"
      },
      "execution_count": null,
      "outputs": []
    },
    {
      "cell_type": "code",
      "source": [
        "score = int(input(\"Enter a number\"))\n",
        "if score>=O and score<10 :\n",
        "  print (\"fail\")\n",
        "elif score>=10 and score<15 :\n",
        "  print (\"Pass\")\n",
        "elif score>=15 and score<=20 :\n",
        "  print (\"Distinction\")\n",
        "else :\n",
        "  print (\"Error\")"
      ],
      "metadata": {
        "colab": {
          "base_uri": "https://localhost:8080/",
          "height": 224
        },
        "id": "oOxCfIodIABB",
        "outputId": "cdf40c59-ec91-4375-f864-64c00b759ed9"
      },
      "execution_count": null,
      "outputs": [
        {
          "name": "stdout",
          "output_type": "stream",
          "text": [
            "Enter a grade between 0 and 205\n"
          ]
        },
        {
          "output_type": "error",
          "ename": "TypeError",
          "evalue": "'<' not supported between instances of 'int' and 'str'",
          "traceback": [
            "\u001b[0;31m---------------------------------------------------------------------------\u001b[0m",
            "\u001b[0;31mTypeError\u001b[0m                                 Traceback (most recent call last)",
            "\u001b[0;32m<ipython-input-19-b67136f6943b>\u001b[0m in \u001b[0;36m<cell line: 2>\u001b[0;34m()\u001b[0m\n\u001b[1;32m      1\u001b[0m \u001b[0mx\u001b[0m \u001b[0;34m=\u001b[0m \u001b[0minput\u001b[0m\u001b[0;34m(\u001b[0m\u001b[0;34m\"Enter a grade between 0 and 20\"\u001b[0m\u001b[0;34m)\u001b[0m\u001b[0;34m\u001b[0m\u001b[0;34m\u001b[0m\u001b[0m\n\u001b[0;32m----> 2\u001b[0;31m \u001b[0;32mif\u001b[0m \u001b[0;36m0\u001b[0m\u001b[0;34m<\u001b[0m\u001b[0mx\u001b[0m \u001b[0;32mand\u001b[0m \u001b[0mx\u001b[0m\u001b[0;34m<\u001b[0m\u001b[0;36m10\u001b[0m \u001b[0;34m:\u001b[0m\u001b[0;34m\u001b[0m\u001b[0;34m\u001b[0m\u001b[0m\n\u001b[0m\u001b[1;32m      3\u001b[0m   \u001b[0mprint\u001b[0m \u001b[0;34m(\u001b[0m\u001b[0;34m\"fail\"\u001b[0m\u001b[0;34m)\u001b[0m\u001b[0;34m\u001b[0m\u001b[0;34m\u001b[0m\u001b[0m\n\u001b[1;32m      4\u001b[0m \u001b[0;32melif\u001b[0m \u001b[0;36m10\u001b[0m\u001b[0;34m<\u001b[0m\u001b[0mx\u001b[0m \u001b[0;32mand\u001b[0m \u001b[0mx\u001b[0m\u001b[0;34m<\u001b[0m\u001b[0;36m15\u001b[0m \u001b[0;34m:\u001b[0m\u001b[0;34m\u001b[0m\u001b[0;34m\u001b[0m\u001b[0m\n\u001b[1;32m      5\u001b[0m   \u001b[0mprint\u001b[0m \u001b[0;34m(\u001b[0m\u001b[0;34m\"Pass\"\u001b[0m\u001b[0;34m)\u001b[0m\u001b[0;34m\u001b[0m\u001b[0;34m\u001b[0m\u001b[0m\n",
            "\u001b[0;31mTypeError\u001b[0m: '<' not supported between instances of 'int' and 'str'"
          ]
        }
      ]
    }
  ]
}